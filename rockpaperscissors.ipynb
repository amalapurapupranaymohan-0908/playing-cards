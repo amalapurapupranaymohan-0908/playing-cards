{
  "nbformat": 4,
  "nbformat_minor": 0,
  "metadata": {
    "colab": {
      "provenance": [],
      "authorship_tag": "ABX9TyNe6gFWwhP04/Dmp+CziZk0",
      "include_colab_link": true
    },
    "kernelspec": {
      "name": "python3",
      "display_name": "Python 3"
    },
    "language_info": {
      "name": "python"
    }
  },
  "cells": [
    {
      "cell_type": "markdown",
      "metadata": {
        "id": "view-in-github",
        "colab_type": "text"
      },
      "source": [
        "<a href=\"https://colab.research.google.com/github/amalapurapupranaymohan-0908/playing-cards/blob/main/rockpaperscissors.ipynb\" target=\"_parent\"><img src=\"https://colab.research.google.com/assets/colab-badge.svg\" alt=\"Open In Colab\"/></a>"
      ]
    },
    {
      "cell_type": "code",
      "execution_count": null,
      "metadata": {
        "id": "uFUM2DzsxIW-"
      },
      "outputs": [],
      "source": []
    },
    {
      "cell_type": "code",
      "source": [
        "import random\n",
        "\n",
        "# Print multiline instruction\n",
        "print('Winning rules of the game ROCK PAPER SCISSORS are:\\n'\n",
        "      + \"Rock vs Paper -> Paper wins \\n\"\n",
        "      + \"Rock vs Scissors -> Rock wins \\n\"\n",
        "      + \"Paper vs Scissors -> Scissors wins \\n\")\n",
        "def rcp():\n",
        " while True:\n",
        "\n",
        "    print(\"Enter your choice \\n 1 - Rock \\n 2 - Paper \\n 3 - Scissors \\n\")\n",
        "\n",
        "    # Take the input from user\n",
        "    choice = int(input(\"Enter your choice: \"))\n",
        "\n",
        "    # Looping until user enters valid input\n",
        "    while choice > 3 or choice < 1:\n",
        "        choice = int(input('Enter a valid choice please : '))\n",
        "\n",
        "    # Initialize value of choice_name variable corresponding to the choice value\n",
        "    if choice == 1:\n",
        "        choice_name = 'Rock'\n",
        "    elif choice == 2:\n",
        "        choice_name = 'Paper'\n",
        "    else:\n",
        "        choice_name = 'Scissors'\n",
        "\n",
        "    # Print user choice\n",
        "    print('User choice is:', choice_name)\n",
        "    print(\"Now it's Computer's Turn...\")\n",
        "\n",
        "    # Computer chooses randomly any number among 1, 2, and 3\n",
        "    comp_choice = random.randint(1, 3)\n",
        "\n",
        "    # Initialize value of comp_choice_name variable corresponding to the choice value\n",
        "    if comp_choice == 1:\n",
        "        comp_choice_name = 'Rock'\n",
        "    elif comp_choice == 2:\n",
        "        comp_choice_name = 'Paper'\n",
        "    else:\n",
        "        comp_choice_name = 'Scissors'\n",
        "\n",
        "    print(\"Computer choice is:\", comp_choice_name)\n",
        "    print(choice_name, 'vs', comp_choice_name)\n",
        "\n",
        "    # Determine the winner\n",
        "    if choice == comp_choice:\n",
        "        result = \"DRAW\"\n",
        "    elif (choice == 1 and comp_choice == 2) or (comp_choice == 1 and choice == 2):\n",
        "        result = 'Paper'\n",
        "    elif (choice == 1 and comp_choice == 3) or (comp_choice == 1 and choice == 3):\n",
        "        result = 'Rock'\n",
        "    elif (choice == 2 and comp_choice == 3) or (comp_choice == 2 and choice == 3):\n",
        "        result = 'Scissors'\n",
        "\n",
        "    # Print the result\n",
        "    if result == \"DRAW\":\n",
        "        print(\"<== It's a tie! ==>\")\n",
        "    elif result == choice_name:\n",
        "        print(\"<== User wins! ==>\")\n",
        "    else:\n",
        "        print(\"<== Computer wins! ==>\")\n",
        "\n",
        "    # Ask if the user wants to play again\n",
        "    print(\"Do you want to play again? (Y/N)\")\n",
        "    ans = input().lower()\n",
        "    if ans == 'y':\n",
        "      continue\n",
        "    else:\n",
        "         break\n",
        "\n",
        "# After coming out of the while loop, print thanks for playing\n",
        "print(\"Thanks for playing!\")\n"
      ],
      "metadata": {
        "id": "irsLMBKhyp7u",
        "colab": {
          "base_uri": "https://localhost:8080/"
        },
        "collapsed": true,
        "outputId": "e1f6a020-78e7-4dbd-db2a-1dcfcb9e0e83"
      },
      "execution_count": 5,
      "outputs": [
        {
          "output_type": "stream",
          "name": "stdout",
          "text": [
            "Winning rules of the game ROCK PAPER SCISSORS are:\n",
            "Rock vs Paper -> Paper wins \n",
            "Rock vs Scissors -> Rock wins \n",
            "Paper vs Scissors -> Scissors wins \n",
            "\n",
            "Enter your choice \n",
            " 1 - Rock \n",
            " 2 - Paper \n",
            " 3 - Scissors \n",
            "\n",
            "Enter your choice: 1\n",
            "User choice is: Rock\n",
            "Now it's Computer's Turn...\n",
            "Computer choice is: Scissors\n",
            "Rock vs Scissors\n",
            "<== User wins! ==>\n",
            "Do you want to play again? (Y/N)\n",
            "2\n",
            "Thanks for playing!\n"
          ]
        }
      ]
    },
    {
      "cell_type": "code",
      "source": [],
      "metadata": {
        "id": "74kK1ooL0uNM"
      },
      "execution_count": null,
      "outputs": []
    }
  ]
}